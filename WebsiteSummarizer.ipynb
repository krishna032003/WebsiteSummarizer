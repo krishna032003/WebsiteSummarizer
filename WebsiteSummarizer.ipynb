{
 "cells": [
  {
   "cell_type": "markdown",
   "metadata": {},
   "source": [
    "# 🌐 Website Summarizer\n",
    "\n",
    "Transform any webpage into intelligent, AI-powered summaries with local LLM magic ✨\n",
    "\n",
    "This notebook demonstrates how to:\n",
    "- 🕷️ Scrape web content intelligently\n",
    "- 🤖 Generate AI summaries using local Ollama\n",
    "- 📝 Display beautiful markdown output"
   ]
  },
  {
   "cell_type": "markdown",
   "metadata": {},
   "source": [
    "## 📦 Import Required Libraries"
   ]
  },
  {
   "cell_type": "code",
   "execution_count": null,
   "metadata": {},
   "outputs": [],
   "source": [
    "# Core imports\n",
    "import os\n",
    "import requests\n",
    "from dotenv import load_dotenv\n",
    "from bs4 import BeautifulSoup\n",
    "from IPython.display import Markdown, display\n",
    "from openai import OpenAI\n",
    "\n",
    "print(\"📦 All libraries imported successfully!\")"
   ]
  },
  {
   "cell_type": "markdown",
   "metadata": {},
   "source": [
    "## 🤖 Setup Ollama Connection\n",
    "\n",
    "Make sure Ollama is running on `localhost:11434` with Llama 3.2 model installed."
   ]
  },
  {
   "cell_type": "code",
   "execution_count": null,
   "metadata": {},
   "outputs": [],
   "source": [
    "# Initialize OpenAI client for Ollama\n",
    "# If you get an error, make sure Ollama is running: ollama serve\n",
    "openai = OpenAI(base_url='http://localhost:11434/v1', api_key='ollama')\n",
    "\n",
    "print(\"🦙 Ollama client initialized!\")"
   ]
  },
  {
   "cell_type": "markdown",
   "metadata": {},
   "source": [
    "## 🕷️ Website Scraper Class\n",
    "\n",
    "Smart web scraping that filters out navigation noise and extracts pure content."
   ]
  },
  {
   "cell_type": "code",
   "execution_count": null,
   "metadata": {},
   "outputs": [],
   "source": [
    "# Stealth headers to avoid being blocked\n",
    "headers = {\n",
    "    \"User-Agent\": \"Mozilla/5.0 (Windows NT 10.0; Win64; x64) AppleWebKit/537.36 (KHTML, like Gecko) Chrome/117.0.0.0 Safari/537.36\"\n",
    "}\n",
    "\n",
    "class Website:\n",
    "    def __init__(self, url):\n",
    "        \"\"\"\n",
    "        🌐 Create Website object from URL using BeautifulSoup\n",
    "        Automatically extracts title and clean text content\n",
    "        \"\"\"\n",
    "        self.url = url\n",
    "        print(f\"🔍 Fetching: {url}\")\n",
    "        \n",
    "        response = requests.get(url, headers=headers)\n",
    "        soup = BeautifulSoup(response.content, 'html.parser')\n",
    "        \n",
    "        # Extract title\n",
    "        self.title = soup.title.string if soup.title else \"No title found\"\n",
    "        \n",
    "        # Remove irrelevant elements (scripts, styles, images, inputs)\n",
    "        for irrelevant in soup.body([\"script\", \"style\", \"img\", \"input\"]):\n",
    "            irrelevant.decompose()\n",
    "        \n",
    "        # Extract clean text\n",
    "        self.text = soup.body.get_text(separator=\"\\n\", strip=True)\n",
    "        \n",
    "        print(f\"✅ Extracted {len(self.text)} characters from '{self.title}'\")\n",
    "\n",
    "print(\"🕷️ Website scraper class ready!\")"
   ]
  },
  {
   "cell_type": "markdown",
   "metadata": {},
   "source": [
    "## 🧠 AI Prompt Engineering\n",
    "\n",
    "Crafting the perfect prompts for intelligent website summarization."
   ]
  },
  {
   "cell_type": "code",
   "execution_count": null,
   "metadata": {},
   "outputs": [],
   "source": [
    "# System prompt - defines the AI's personality and behavior\n",
    "system_prompt = \"\"\"You are an assistant that analyzes the contents of a website \\\n",
    "and provides a short summary, ignoring text that might be navigation related. \\\n",
    "Respond in markdown.\"\"\"\n",
    "\n",
    "def user_prompt_for(website):\n",
    "    \"\"\"🎯 Generate user prompt for website summarization\"\"\"\n",
    "    user_prompt = f\"You are looking at a website titled {website.title}\"\n",
    "    user_prompt += \"\\nThe contents of this website is as follows; \\\n",
    "please provide a short summary of this website in markdown. \\\n",
    "If it includes news or announcements, then summarize these too.\\n\\n\"\n",
    "    user_prompt += website.text\n",
    "    return user_prompt\n",
    "\n",
    "def messages_for(website):\n",
    "    \"\"\"📝 Create complete message structure for API call\"\"\"\n",
    "    return [\n",
    "        {\"role\": \"system\", \"content\": system_prompt},\n",
    "        {\"role\": \"user\", \"content\": user_prompt_for(website)}\n",
    "    ]\n",
    "\n",
    "print(\"🧠 AI prompts configured!\")"
   ]
  },
  {
   "cell_type": "markdown",
   "metadata": {},
   "source": [
    "## ✨ Main Summarization Functions\n",
    "\n",
    "The magic happens here - AI-powered website summarization!"
   ]
  },
  {
   "cell_type": "code",
   "execution_count": null,
   "metadata": {},
   "outputs": [],
   "source": [
    "def summarize(url):\n",
    "    \"\"\"🚀 Main function: URL → AI Summary\"\"\"\n",
    "    website = Website(url)\n",
    "    \n",
    "    print(\"🤖 Generating AI summary...\")\n",
    "    response = openai.chat.completions.create(\n",
    "        model=\"llama3.2\",\n",
    "        messages=messages_for(website)\n",
    "    )\n",
    "    \n",
    "    return response.choices[0].message.content\n",
    "\n",
    "def display_summary(url):\n",
    "    \"\"\"📺 Display formatted summary in Jupyter\"\"\"\n",
    "    summary = summarize(url)\n",
    "    print(\"\\n\" + \"=\"*50)\n",
    "    print(\"📋 WEBSITE SUMMARY\")\n",
    "    print(\"=\"*50)\n",
    "    display(Markdown(summary))\n",
    "\n",
    "print(\"✨ Summarization functions ready!\")"
   ]
  },
  {
   "cell_type": "markdown",
   "metadata": {},
   "source": [
    "## 🧪 Test the Website Summarizer\n",
    "\n",
    "Let's test our website summarizer with a real example!"
   ]
  },
  {
   "cell_type": "code",
   "execution_count": null,
   "metadata": {},
   "outputs": [],
   "source": [
    "# Test with Edward Donner's website\n",
    "test_url = \"https://edwarddonner.com\"\n",
    "ed = Website(test_url)\n",
    "\n",
    "print(f\"🎯 Title: {ed.title}\")\n",
    "print(f\"📄 Content length: {len(ed.text)} characters\")\n",
    "print(f\"📝 First 200 chars: {ed.text[:200]}...\")"
   ]
  },
  {
   "cell_type": "markdown",
   "metadata": {},
   "source": [
    "## 🎬 Live Demo\n",
    "\n",
    "Watch the magic happen! Uncomment and run the cell below to generate a real summary."
   ]
  },
  {
   "cell_type": "code",
   "execution_count": null,
   "metadata": {},
   "outputs": [],
   "source": [
    "# Uncomment to run live demo (make sure Ollama is running!)\n",
    "# display_summary(\"https://oksgt.com\")\n",
    "\n",
    "print(\"🎭 Ready for live demo! Uncomment the line above to test.\")"
   ]
  },
  {
   "cell_type": "markdown",
   "metadata": {},
   "source": [
    "## 🎯 Try Your Own URLs\n",
    "\n",
    "Test the summarizer with any website you want!"
   ]
  },
  {
   "cell_type": "code",
   "execution_count": null,
   "metadata": {},
   "outputs": [],
   "source": [
    "# Your turn! Replace with any URL you want to summarize\n",
    "your_url = \"https://news.ycombinator.com\"  # Change this!\n",
    "\n",
    "# Uncomment to test:\n",
    "# display_summary(your_url)\n",
    "\n",
    "print(f\"🎪 Ready to summarize: {your_url}\")\n",
    "print(\"💡 Uncomment the display_summary line to test!\")"
   ]
  },
  {
   "cell_type": "markdown",
   "metadata": {},
   "source": [
    "## 🎨 Customization Playground\n",
    "\n",
    "Experiment with different models and prompts!"
   ]
  },
  {
   "cell_type": "code",
   "execution_count": null,
   "metadata": {},
   "outputs": [],
   "source": [
    "# Try different system prompts\n",
    "creative_prompt = \"\"\"You are a witty AI that analyzes websites and provides \n",
    "entertaining summaries with emojis and humor. Make it fun!\"\"\"\n",
    "\n",
    "technical_prompt = \"\"\"You are a technical analyst that provides detailed, \n",
    "structured summaries focusing on technical aspects and key metrics.\"\"\"\n",
    "\n",
    "# Try different models (if you have them installed)\n",
    "alternative_models = [\n",
    "    \"llama3.1\",\n",
    "    \"mistral\",\n",
    "    \"codellama\"\n",
    "]\n",
    "\n",
    "print(\"🎨 Customization options ready!\")\n",
    "print(\"💡 Modify the system_prompt variable and re-run to experiment!\")"
   ]
  },
  {
   "cell_type": "markdown",
   "metadata": {},
   "source": [
    "## 🏁 Conclusion\n",
    "\n",
    "You now have a powerful, local AI-powered website summarizer! 🎉\n",
    "\n",
    "### What we built:\n",
    "- 🕷️ Smart web scraper that filters noise\n",
    "- 🤖 Local AI integration with Ollama\n",
    "- 📝 Beautiful markdown output\n",
    "- 🎨 Customizable prompts and models\n",
    "\n",
    "### Next steps:\n",
    "- Try different websites and domains\n",
    "- Experiment with custom prompts\n",
    "- Add error handling and logging\n",
    "- Create a web interface\n",
    "\n",
    "**Happy summarizing! 🌐✨**"
   ]
  }
 ],
 "metadata": {
  "kernelspec": {
   "display_name": "Python 3",
   "language": "python",
   "name": "python3"
  },
  "language_info": {
   "codemirror_mode": {
    "name": "ipython",
    "version": 3
   },
   "file_extension": ".py",
   "mimetype": "text/x-python",
   "name": "python",
   "nbconvert_exporter": "python",
   "pygments_lexer": "ipython3",
   "version": "3.8.0"
  }
 },
 "nbformat": 4,
 "nbformat_minor": 4
}
